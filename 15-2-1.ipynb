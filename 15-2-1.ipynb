{
 "cells": [
  {
   "cell_type": "code",
   "execution_count": 10,
   "id": "2ab8fcc6",
   "metadata": {},
   "outputs": [],
   "source": [
    "from pulp import *\n",
    "import pandas as pd"
   ]
  },
  {
   "cell_type": "code",
   "execution_count": 11,
   "id": "724ea90a",
   "metadata": {
    "scrolled": false
   },
   "outputs": [
    {
     "data": {
      "text/html": [
       "<div>\n",
       "<style scoped>\n",
       "    .dataframe tbody tr th:only-of-type {\n",
       "        vertical-align: middle;\n",
       "    }\n",
       "\n",
       "    .dataframe tbody tr th {\n",
       "        vertical-align: top;\n",
       "    }\n",
       "\n",
       "    .dataframe thead th {\n",
       "        text-align: right;\n",
       "    }\n",
       "</style>\n",
       "<table border=\"1\" class=\"dataframe\">\n",
       "  <thead>\n",
       "    <tr style=\"text-align: right;\">\n",
       "      <th></th>\n",
       "      <th>Foods</th>\n",
       "      <th>Price/ Serving</th>\n",
       "      <th>Serving Size</th>\n",
       "      <th>Calories</th>\n",
       "      <th>Cholesterol mg</th>\n",
       "      <th>Total_Fat g</th>\n",
       "      <th>Sodium mg</th>\n",
       "      <th>Carbohydrates g</th>\n",
       "      <th>Dietary_Fiber g</th>\n",
       "      <th>Protein g</th>\n",
       "      <th>Vit_A IU</th>\n",
       "      <th>Vit_C IU</th>\n",
       "      <th>Calcium mg</th>\n",
       "      <th>Iron mg</th>\n",
       "    </tr>\n",
       "  </thead>\n",
       "  <tbody>\n",
       "    <tr>\n",
       "      <th>59</th>\n",
       "      <td>Neweng Clamchwd</td>\n",
       "      <td>0.75</td>\n",
       "      <td>1 C (8 Fl Oz)</td>\n",
       "      <td>175.7</td>\n",
       "      <td>10.0</td>\n",
       "      <td>5.0</td>\n",
       "      <td>1864.9</td>\n",
       "      <td>21.8</td>\n",
       "      <td>1.5</td>\n",
       "      <td>10.9</td>\n",
       "      <td>20.1</td>\n",
       "      <td>4.8</td>\n",
       "      <td>82.8</td>\n",
       "      <td>2.8</td>\n",
       "    </tr>\n",
       "    <tr>\n",
       "      <th>60</th>\n",
       "      <td>Tomato Soup</td>\n",
       "      <td>0.39</td>\n",
       "      <td>1 C (8 Fl Oz)</td>\n",
       "      <td>170.7</td>\n",
       "      <td>0.0</td>\n",
       "      <td>3.8</td>\n",
       "      <td>1744.4</td>\n",
       "      <td>33.2</td>\n",
       "      <td>1.0</td>\n",
       "      <td>4.1</td>\n",
       "      <td>1393.0</td>\n",
       "      <td>133.0</td>\n",
       "      <td>27.6</td>\n",
       "      <td>3.5</td>\n",
       "    </tr>\n",
       "    <tr>\n",
       "      <th>61</th>\n",
       "      <td>New E Clamchwd,W/Mlk</td>\n",
       "      <td>0.99</td>\n",
       "      <td>1 C (8 Fl Oz)</td>\n",
       "      <td>163.7</td>\n",
       "      <td>22.3</td>\n",
       "      <td>6.6</td>\n",
       "      <td>992.0</td>\n",
       "      <td>16.6</td>\n",
       "      <td>1.5</td>\n",
       "      <td>9.5</td>\n",
       "      <td>163.7</td>\n",
       "      <td>3.5</td>\n",
       "      <td>186.0</td>\n",
       "      <td>1.5</td>\n",
       "    </tr>\n",
       "    <tr>\n",
       "      <th>62</th>\n",
       "      <td>Crm Mshrm Soup,W/Mlk</td>\n",
       "      <td>0.65</td>\n",
       "      <td>1 C (8 Fl Oz)</td>\n",
       "      <td>203.4</td>\n",
       "      <td>19.8</td>\n",
       "      <td>13.6</td>\n",
       "      <td>1076.3</td>\n",
       "      <td>15.0</td>\n",
       "      <td>0.5</td>\n",
       "      <td>6.1</td>\n",
       "      <td>153.8</td>\n",
       "      <td>2.2</td>\n",
       "      <td>178.6</td>\n",
       "      <td>0.6</td>\n",
       "    </tr>\n",
       "    <tr>\n",
       "      <th>63</th>\n",
       "      <td>Beanbacn Soup,W/Watr</td>\n",
       "      <td>0.67</td>\n",
       "      <td>1 C (8 Fl Oz)</td>\n",
       "      <td>172.0</td>\n",
       "      <td>2.5</td>\n",
       "      <td>5.9</td>\n",
       "      <td>951.3</td>\n",
       "      <td>22.8</td>\n",
       "      <td>8.6</td>\n",
       "      <td>7.9</td>\n",
       "      <td>888.0</td>\n",
       "      <td>1.5</td>\n",
       "      <td>81.0</td>\n",
       "      <td>2.0</td>\n",
       "    </tr>\n",
       "  </tbody>\n",
       "</table>\n",
       "</div>"
      ],
      "text/plain": [
       "                   Foods  Price/ Serving   Serving Size  Calories  \\\n",
       "59       Neweng Clamchwd            0.75  1 C (8 Fl Oz)     175.7   \n",
       "60           Tomato Soup            0.39  1 C (8 Fl Oz)     170.7   \n",
       "61  New E Clamchwd,W/Mlk            0.99  1 C (8 Fl Oz)     163.7   \n",
       "62  Crm Mshrm Soup,W/Mlk            0.65  1 C (8 Fl Oz)     203.4   \n",
       "63  Beanbacn Soup,W/Watr            0.67  1 C (8 Fl Oz)     172.0   \n",
       "\n",
       "    Cholesterol mg  Total_Fat g  Sodium mg  Carbohydrates g  Dietary_Fiber g  \\\n",
       "59            10.0          5.0     1864.9             21.8              1.5   \n",
       "60             0.0          3.8     1744.4             33.2              1.0   \n",
       "61            22.3          6.6      992.0             16.6              1.5   \n",
       "62            19.8         13.6     1076.3             15.0              0.5   \n",
       "63             2.5          5.9      951.3             22.8              8.6   \n",
       "\n",
       "    Protein g  Vit_A IU  Vit_C IU  Calcium mg  Iron mg  \n",
       "59       10.9      20.1       4.8        82.8      2.8  \n",
       "60        4.1    1393.0     133.0        27.6      3.5  \n",
       "61        9.5     163.7       3.5       186.0      1.5  \n",
       "62        6.1     153.8       2.2       178.6      0.6  \n",
       "63        7.9     888.0       1.5        81.0      2.0  "
      ]
     },
     "execution_count": 11,
     "metadata": {},
     "output_type": "execute_result"
    }
   ],
   "source": [
    "#Read data in to data frame (Only first 64 rows)\n",
    "df = pd.read_excel(\"diet.xls\", nrows=64)\n",
    "\n",
    "#Check data \n",
    "df.head()\n",
    "df.tail()"
   ]
  },
  {
   "cell_type": "code",
   "execution_count": 12,
   "id": "84fa8efb",
   "metadata": {},
   "outputs": [],
   "source": [
    "#Create a list of all foods\n",
    "food_list = list(df['Foods'])\n",
    "\n",
    "\n",
    "#Create a dictionary of price (all foods)\n",
    "price = dict(zip(food_list , df['Price/ Serving']))\n",
    "\n",
    "\n",
    "#Create a list of nutrition facts names and min and max of each one\n",
    "col_name = list(df.columns[3:])\n",
    "var_name = ['calories', 'cholesterol', 'fat', 'sodium', \n",
    "            'carbohydrates', 'fiber', 'protein', 'vit_A', 'vit_C', \n",
    "            'calcium', 'iron']\n",
    "val_min = [1500,  30, 20,  800, 130, 125,  60,  1000,  400,  700, 10]\n",
    "val_max = [2500, 240, 70, 2000, 450, 250, 100, 10000, 5000, 1500, 40]\n",
    "\n",
    "\n",
    "#Create a list of nutrition_facts list that containes a dictionary of foods and it's nutrition(calories, cholesterol, ...)\n",
    "nutrition_facts = []\n",
    "for i,j in enumerate(col_name):\n",
    "    nutrition_facts.append(dict(zip(food_list , df[col_name[i]])))"
   ]
  },
  {
   "cell_type": "code",
   "execution_count": 13,
   "id": "008995e6",
   "metadata": {},
   "outputs": [],
   "source": [
    "#Define variables\n",
    "food_vars = LpVariable.dicts(\"Food\", food_list, lowBound=0, cat = LpContinuous)"
   ]
  },
  {
   "cell_type": "code",
   "execution_count": 14,
   "id": "c2842c10",
   "metadata": {
    "scrolled": true
   },
   "outputs": [],
   "source": [
    "#Create Objective function (Minimization)\n",
    "problem = LpProblem(\"Food_Cost\", LpMinimize)\n",
    "problem += lpSum([price[food] * food_vars[food] for food in food_list])"
   ]
  },
  {
   "cell_type": "code",
   "execution_count": 15,
   "id": "3309187f",
   "metadata": {},
   "outputs": [],
   "source": [
    "#Add Constraints\n",
    "for i,n_name in enumerate(col_name):\n",
    "        problem += lpSum(nutrition_facts[i][food] * food_vars[food] for food in food_list) >= val_min[i], 'Minimum ' + n_name\n",
    "        problem += lpSum(nutrition_facts[i][food] * food_vars[food] for food in food_list) <= val_max[i], 'Maximum ' + n_name"
   ]
  },
  {
   "cell_type": "code",
   "execution_count": 16,
   "id": "1150de85",
   "metadata": {},
   "outputs": [
    {
     "data": {
      "text/plain": [
       "1"
      ]
     },
     "execution_count": 16,
     "metadata": {},
     "output_type": "execute_result"
    }
   ],
   "source": [
    "#Solve the optimization problem\n",
    "problem.solve()"
   ]
  },
  {
   "cell_type": "code",
   "execution_count": 17,
   "id": "0502d3ba",
   "metadata": {},
   "outputs": [
    {
     "name": "stdout",
     "output_type": "stream",
     "text": [
      "Food_Celery,_Raw ==> 52.64371\n",
      "Food_Frozen_Broccoli ==> 0.25960653\n",
      "Food_Lettuce,Iceberg,Raw ==> 63.988506\n",
      "Food_Oranges ==> 2.2929389\n",
      "Food_Poached_Eggs ==> 0.14184397\n",
      "Food_Popcorn,Air_Popped ==> 13.869322\n"
     ]
    }
   ],
   "source": [
    "for var in problem.variables():\n",
    "    if var.varValue > 0:\n",
    "        print(var.name, \"==>\", var.varValue)"
   ]
  },
  {
   "cell_type": "code",
   "execution_count": 18,
   "id": "2d7e91ec",
   "metadata": {},
   "outputs": [
    {
     "name": "stdout",
     "output_type": "stream",
     "text": [
      "4.337116797399999\n"
     ]
    }
   ],
   "source": [
    "print(value(problem.objective))"
   ]
  },
  {
   "cell_type": "code",
   "execution_count": null,
   "id": "c803520b",
   "metadata": {},
   "outputs": [],
   "source": []
  }
 ],
 "metadata": {
  "kernelspec": {
   "display_name": "Python 3 (ipykernel)",
   "language": "python",
   "name": "python3"
  },
  "language_info": {
   "codemirror_mode": {
    "name": "ipython",
    "version": 3
   },
   "file_extension": ".py",
   "mimetype": "text/x-python",
   "name": "python",
   "nbconvert_exporter": "python",
   "pygments_lexer": "ipython3",
   "version": "3.9.7"
  }
 },
 "nbformat": 4,
 "nbformat_minor": 5
}
